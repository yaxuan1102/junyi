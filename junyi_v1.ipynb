{
 "cells": [
  {
   "cell_type": "markdown",
   "metadata": {},
   "source": [
    "## 1.\n",
    "### (A.) 請寫⼀個程式把裡⾯的字串反過來。 "
   ]
  },
  {
   "cell_type": "markdown",
   "metadata": {},
   "source": [
    "### ANS"
   ]
  },
  {
   "cell_type": "code",
   "execution_count": 5,
   "metadata": {},
   "outputs": [],
   "source": [
    "def reverse(s):\n",
    "    ans = \"\"\n",
    "    for i in s:\n",
    "        ans = i + ans\n",
    "    return ans"
   ]
  },
  {
   "cell_type": "code",
   "execution_count": 6,
   "metadata": {},
   "outputs": [
    {
     "data": {
      "text/plain": [
       "'”ymedacaiynuj'"
      ]
     },
     "execution_count": 6,
     "metadata": {},
     "output_type": "execute_result"
    }
   ],
   "source": [
    "reverse(\"junyiacademy”\")"
   ]
  },
  {
   "cell_type": "markdown",
   "metadata": {},
   "source": [
    "### (B.) 請寫⼀個程式把裡⾯的字串，每個單字本⾝做反轉，但是單字的順序不變。"
   ]
  },
  {
   "cell_type": "code",
   "execution_count": null,
   "metadata": {},
   "outputs": [],
   "source": [
    "def reverse_sentence(sen):\n",
    "    t = sen.split(\" \")\n",
    "    print(t)"
   ]
  },
  {
   "cell_type": "code",
   "execution_count": null,
   "metadata": {},
   "outputs": [],
   "source": []
  },
  {
   "cell_type": "markdown",
   "metadata": {},
   "source": [
    "## 2.\n",
    "請寫⼀個程式，Input 是⼀個數字，Output 是從 1 到這個數字，扣除掉所有 3 的倍數以及 5 的倍數，但是需要保留同時是 3 和 5 的倍數的總數字數。"
   ]
  },
  {
   "cell_type": "code",
   "execution_count": null,
   "metadata": {},
   "outputs": [],
   "source": [
    "def input(end):\n",
    "    num3 = end/3\n",
    "    num5 = end/5\n",
    "    "
   ]
  },
  {
   "cell_type": "markdown",
   "metadata": {},
   "source": [
    "## 3.\n",
    "房間裡有三個袋⼦，⼀個只裝鉛筆，⼀個只裝原⼦筆，第三個有鉛筆也有原⼦筆，袋⼦是不透明的，單從\n",
    "袋⼦的外表上看不出任何差異，你不知道哪⼀個袋⼦裝了什麼。除了袋⼦上各貼了⼀個標⽰(\"鉛筆\"、\"原⼦\n",
    "筆\"、\"混和\")，⽽且標⽰都是錯的(ex. 標有鉛筆的袋⼦⼀定不是只裝鉛筆)。\n",
    "你只能選⼀個袋⼦，然後拿出裡⾯⼀⽀筆看是鉛筆還是原⼦筆，然後你要推論出這三個袋⼦分別的情況。請\n",
    "列出您的作法，以及解釋為什麼這樣可以找到答案。"
   ]
  },
  {
   "cell_type": "markdown",
   "metadata": {},
   "source": [
    "### ANS\n",
    "\n",
    "情況一：非混合的抽一隻\n",
    "\n",
    "如果抽到和標記一樣的比，代表是混合；如果是不一樣的筆，代表應該要標示抽到的那隻筆。\n",
    "\n",
    "(ex. 標記鉛筆的，抽到鉛筆，代表是混合；抽到原子筆，代表是原子筆)\n",
    "\n",
    "\n",
    "\n",
    "#### 結論：抽混合的\n",
    "\n",
    "因為標記混合，代表裡面一定不是混合，所以抽出來是哪知筆，表示應該要標示那隻筆。\n",
    "\n",
    "再找對應出剛剛抽到的筆的標記袋子，將該袋子的標記和混合標記交換，這樣抽的那個袋子已經正確了，剩下的兩個再交換就可以了。"
   ]
  },
  {
   "cell_type": "markdown",
   "metadata": {},
   "source": [
    "## 4.\n",
    "有三個⼈⼀起到迪⼠尼遊玩，中午肚⼦餓了，去餐廳點了⼀份現在最夯的冰雪奇緣雙⼈組，要價 900 元，\n",
    "付錢後，服務⽣發現今天套餐⼤特價，只要 750 元，因此服務⽣應該退還 150 元給這三個⼈，但是這位服務\n",
    "⽣⼀時⿁迷⼼翹，決定按扛 60 元，只退了 90 元給這三個遊客。\n",
    "那麼： 三⼈各出 300 元 - 服務⽣還給他們⼀⼈ 30 元 = 三⼈各出 270 元 270元 × 3⼈ + 服務⽣私吞的 60 元\n",
    "= 810 + 60 = 870 !? 怎麼不是 900 元呢？還有 30元去哪了呢？ 請⽤敘述的⽅式，儘量清楚解釋問題出在哪\n",
    "裡。"
   ]
  },
  {
   "cell_type": "markdown",
   "metadata": {},
   "source": [
    "### ANS\n",
    "一開始每人都付了$300(總額$900)，而實際上他們每人只要付$250(總額$750)。但因為服務生暗扛了$60(每人暗扛$20)，還回去$90(每人拿到$30)，所以這樣算起來：理論上以每個人計算，只要付$250，加上服務生暗扛$20，加上還回來$30，這樣就是$300了。"
   ]
  },
  {
   "cell_type": "code",
   "execution_count": null,
   "metadata": {},
   "outputs": [],
   "source": []
  }
 ],
 "metadata": {
  "kernelspec": {
   "display_name": "Python 3",
   "language": "python",
   "name": "python3"
  },
  "language_info": {
   "codemirror_mode": {
    "name": "ipython",
    "version": 3
   },
   "file_extension": ".py",
   "mimetype": "text/x-python",
   "name": "python",
   "nbconvert_exporter": "python",
   "pygments_lexer": "ipython3",
   "version": "3.7.0"
  }
 },
 "nbformat": 4,
 "nbformat_minor": 2
}
